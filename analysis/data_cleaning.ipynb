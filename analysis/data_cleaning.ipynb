{
 "cells": [
  {
   "cell_type": "code",
   "execution_count": 1,
   "id": "bcb2c6cc",
   "metadata": {},
   "outputs": [],
   "source": [
    "import os\n",
    "import pandas as pd\n",
    "import seaborn as sns\n",
    "import matplotlib.pyplot as plt\n",
    "from statsmodels.tsa.arima.model import ARIMA\n",
    "from sklearn.preprocessing import LabelEncoder"
   ]
  },
  {
   "cell_type": "code",
   "execution_count": 2,
   "id": "9ef8bdfb",
   "metadata": {},
   "outputs": [],
   "source": [
    "# Set global parameters for the plots\n",
    "sns.set(style='whitegrid')\n",
    "plt.rcParams['figure.figsize'] = (10, 6)\n",
    "plt.rcParams['axes.labelsize'] = 12"
   ]
  },
  {
   "cell_type": "markdown",
   "id": "d23bcc1d",
   "metadata": {},
   "source": [
    "Import all CSV files for the 2022/23 season"
   ]
  },
  {
   "cell_type": "code",
   "execution_count": 3,
   "id": "d1d3d583",
   "metadata": {},
   "outputs": [],
   "source": [
    "main_table_results = pd.read_csv('../../data/2022-23/main_table_results.csv')\n",
    "match_table_results = pd.read_csv('../../data/2022-23/match_table_results.csv')\n",
    "match_statistics = pd.read_csv('../../data/2022-23/match_statistics.csv')\n",
    "players_statistics_home_team = pd.read_csv('../../data/2022-23/players_statistics_home_team.csv')\n",
    "players_statistics_away_team = pd.read_csv('../../data/2022-23/players_statistics_away_team.csv')\n",
    "match_officials = pd.read_csv('../../data/2022-23/match_officials.csv')"
   ]
  },
  {
   "cell_type": "markdown",
   "id": "3477f630",
   "metadata": {},
   "source": [
    "### EDA\n",
    "Check in which tables we have missing values"
   ]
  },
  {
   "cell_type": "code",
   "execution_count": 4,
   "id": "21ff97a6",
   "metadata": {},
   "outputs": [
    {
     "name": "stdout",
     "output_type": "stream",
     "text": [
      "<class 'pandas.core.frame.DataFrame'>\n",
      "RangeIndex: 20 entries, 0 to 19\n",
      "Data columns (total 10 columns):\n",
      " #   Column            Non-Null Count  Dtype \n",
      "---  ------            --------------  ----- \n",
      " 0   position          20 non-null     int64 \n",
      " 1   team              20 non-null     object\n",
      " 2   played            20 non-null     int64 \n",
      " 3   won               20 non-null     int64 \n",
      " 4   drawn             20 non-null     int64 \n",
      " 5   lost              20 non-null     int64 \n",
      " 6   goals_for         20 non-null     int64 \n",
      " 7   goals_against     20 non-null     int64 \n",
      " 8   goals_difference  20 non-null     int64 \n",
      " 9   points            20 non-null     int64 \n",
      "dtypes: int64(9), object(1)\n",
      "memory usage: 1.7+ KB\n"
     ]
    }
   ],
   "source": [
    "main_table_results.info()"
   ]
  },
  {
   "cell_type": "code",
   "execution_count": 5,
   "id": "994af266",
   "metadata": {},
   "outputs": [
    {
     "name": "stdout",
     "output_type": "stream",
     "text": [
      "<class 'pandas.core.frame.DataFrame'>\n",
      "RangeIndex: 380 entries, 0 to 379\n",
      "Data columns (total 6 columns):\n",
      " #   Column      Non-Null Count  Dtype \n",
      "---  ------      --------------  ----- \n",
      " 0   match_id    380 non-null    int64 \n",
      " 1   home_team   380 non-null    object\n",
      " 2   away_team   380 non-null    object\n",
      " 3   score_ht    380 non-null    int64 \n",
      " 4   score_at    380 non-null    int64 \n",
      " 5   date_start  380 non-null    object\n",
      "dtypes: int64(3), object(3)\n",
      "memory usage: 17.9+ KB\n"
     ]
    }
   ],
   "source": [
    "match_table_results.info()"
   ]
  },
  {
   "cell_type": "code",
   "execution_count": 6,
   "id": "64902229",
   "metadata": {},
   "outputs": [
    {
     "name": "stdout",
     "output_type": "stream",
     "text": [
      "<class 'pandas.core.frame.DataFrame'>\n",
      "RangeIndex: 760 entries, 0 to 759\n",
      "Data columns (total 21 columns):\n",
      " #   Column            Non-Null Count  Dtype  \n",
      "---  ------            --------------  -----  \n",
      " 0   match_id          760 non-null    int64  \n",
      " 1   stadium           760 non-null    object \n",
      " 2   attendance        760 non-null    int64  \n",
      " 3   is_home_team      760 non-null    bool   \n",
      " 4   team              760 non-null    object \n",
      " 5   possessions       760 non-null    float64\n",
      " 6   total_shots       760 non-null    int64  \n",
      " 7   on_target         760 non-null    int64  \n",
      " 8   off_target        760 non-null    int64  \n",
      " 9   blocked           760 non-null    int64  \n",
      " 10  passing           760 non-null    float64\n",
      " 11  clear_cut_chance  760 non-null    int64  \n",
      " 12  corners           760 non-null    int64  \n",
      " 13  offsides          760 non-null    int64  \n",
      " 14  tackles           760 non-null    float64\n",
      " 15  aerial_duels      760 non-null    float64\n",
      " 16  saves             760 non-null    int64  \n",
      " 17  fouls_committed   760 non-null    int64  \n",
      " 18  fouls_won         760 non-null    int64  \n",
      " 19  yellow_cards      760 non-null    int64  \n",
      " 20  red_cards         760 non-null    int64  \n",
      "dtypes: bool(1), float64(4), int64(14), object(2)\n",
      "memory usage: 119.6+ KB\n"
     ]
    }
   ],
   "source": [
    "match_statistics.info()"
   ]
  },
  {
   "cell_type": "code",
   "execution_count": 7,
   "id": "a9354d91",
   "metadata": {},
   "outputs": [
    {
     "name": "stdout",
     "output_type": "stream",
     "text": [
      "<class 'pandas.core.frame.DataFrame'>\n",
      "RangeIndex: 7595 entries, 0 to 7594\n",
      "Data columns (total 17 columns):\n",
      " #   Column                Non-Null Count  Dtype  \n",
      "---  ------                --------------  -----  \n",
      " 0   match_id              7595 non-null   int64  \n",
      " 1   number_player         7595 non-null   int64  \n",
      " 2   name_player           7595 non-null   object \n",
      " 3   nationality           7592 non-null   object \n",
      " 4   age                   7592 non-null   float64\n",
      " 5   position              7592 non-null   object \n",
      " 6   transfer_fee          7462 non-null   float64\n",
      " 7   first_team            7595 non-null   bool   \n",
      " 8   substitution          7595 non-null   bool   \n",
      " 9   play_time             7595 non-null   int64  \n",
      " 10  goals                 7595 non-null   int64  \n",
      " 11  penalty_goals         7595 non-null   int64  \n",
      " 12  missed_penalty_goals  7595 non-null   int64  \n",
      " 13  own_goals             7595 non-null   int64  \n",
      " 14  assists               7595 non-null   int64  \n",
      " 15  yellow_card           7595 non-null   bool   \n",
      " 16  red_card              7595 non-null   bool   \n",
      "dtypes: bool(4), float64(2), int64(8), object(3)\n",
      "memory usage: 801.2+ KB\n"
     ]
    }
   ],
   "source": [
    "players_statistics_home_team.info()"
   ]
  },
  {
   "cell_type": "code",
   "execution_count": 8,
   "id": "a07c18ce",
   "metadata": {},
   "outputs": [
    {
     "name": "stdout",
     "output_type": "stream",
     "text": [
      "<class 'pandas.core.frame.DataFrame'>\n",
      "RangeIndex: 7590 entries, 0 to 7589\n",
      "Data columns (total 17 columns):\n",
      " #   Column                Non-Null Count  Dtype  \n",
      "---  ------                --------------  -----  \n",
      " 0   match_id              7590 non-null   int64  \n",
      " 1   number_player         7590 non-null   int64  \n",
      " 2   name_player           7590 non-null   object \n",
      " 3   nationality           7590 non-null   object \n",
      " 4   age                   7590 non-null   int64  \n",
      " 5   position              7590 non-null   object \n",
      " 6   transfer_fee          7466 non-null   float64\n",
      " 7   first_team            7590 non-null   bool   \n",
      " 8   substitution          7590 non-null   bool   \n",
      " 9   play_time             7590 non-null   int64  \n",
      " 10  goals                 7590 non-null   int64  \n",
      " 11  penalty_goals         7590 non-null   int64  \n",
      " 12  missed_penalty_goals  7590 non-null   int64  \n",
      " 13  own_goals             7590 non-null   int64  \n",
      " 14  assists               7590 non-null   int64  \n",
      " 15  yellow_card           7590 non-null   bool   \n",
      " 16  red_card              7590 non-null   bool   \n",
      "dtypes: bool(4), float64(1), int64(9), object(3)\n",
      "memory usage: 800.6+ KB\n"
     ]
    }
   ],
   "source": [
    "players_statistics_away_team.info()"
   ]
  },
  {
   "cell_type": "code",
   "execution_count": 9,
   "id": "965396d7",
   "metadata": {},
   "outputs": [
    {
     "name": "stdout",
     "output_type": "stream",
     "text": [
      "380\n",
      "380\n",
      "380\n",
      "380\n",
      "380\n"
     ]
    }
   ],
   "source": [
    "for table in [match_table_results, match_statistics,\n",
    "              players_statistics_home_team, players_statistics_away_team, match_officials]:\n",
    "    print(table['match_id'].nunique())"
   ]
  },
  {
   "cell_type": "code",
   "execution_count": 10,
   "id": "a57248db",
   "metadata": {},
   "outputs": [
    {
     "name": "stdout",
     "output_type": "stream",
     "text": [
      "<class 'pandas.core.frame.DataFrame'>\n",
      "RangeIndex: 3041 entries, 0 to 3040\n",
      "Data columns (total 3 columns):\n",
      " #   Column          Non-Null Count  Dtype \n",
      "---  ------          --------------  ----- \n",
      " 0   match_id        3041 non-null   int64 \n",
      " 1   name_officials  3040 non-null   object\n",
      " 2   role            3041 non-null   object\n",
      "dtypes: int64(1), object(2)\n",
      "memory usage: 71.4+ KB\n"
     ]
    }
   ],
   "source": [
    "match_officials.info()"
   ]
  },
  {
   "cell_type": "markdown",
   "id": "a7fa818c",
   "metadata": {},
   "source": [
    "From the information above, we have that missing values are only present in the files:  \n",
    "1. players_statistics_home_team\n",
    "2. players_statistics_away_team \n",
    "3. match_officials"
   ]
  },
  {
   "cell_type": "markdown",
   "id": "03e9ebb2",
   "metadata": {},
   "source": [
    "Now let's examine these rows with empty values"
   ]
  },
  {
   "cell_type": "code",
   "execution_count": 11,
   "id": "db57aa1d",
   "metadata": {},
   "outputs": [
    {
     "data": {
      "text/html": [
       "<div>\n",
       "<style scoped>\n",
       "    .dataframe tbody tr th:only-of-type {\n",
       "        vertical-align: middle;\n",
       "    }\n",
       "\n",
       "    .dataframe tbody tr th {\n",
       "        vertical-align: top;\n",
       "    }\n",
       "\n",
       "    .dataframe thead th {\n",
       "        text-align: right;\n",
       "    }\n",
       "</style>\n",
       "<table border=\"1\" class=\"dataframe\">\n",
       "  <thead>\n",
       "    <tr style=\"text-align: right;\">\n",
       "      <th></th>\n",
       "      <th>match_id</th>\n",
       "      <th>name_officials</th>\n",
       "      <th>role</th>\n",
       "    </tr>\n",
       "  </thead>\n",
       "  <tbody>\n",
       "    <tr>\n",
       "      <th>2512</th>\n",
       "      <td>464714</td>\n",
       "      <td>NaN</td>\n",
       "      <td>Assistant VAR</td>\n",
       "    </tr>\n",
       "  </tbody>\n",
       "</table>\n",
       "</div>"
      ],
      "text/plain": [
       "      match_id name_officials           role\n",
       "2512    464714            NaN  Assistant VAR"
      ]
     },
     "execution_count": 11,
     "metadata": {},
     "output_type": "execute_result"
    }
   ],
   "source": [
    "match_officials.loc[match_officials['name_officials'].isnull()]"
   ]
  },
  {
   "cell_type": "markdown",
   "id": "3cf0bf23",
   "metadata": {},
   "source": [
    "Assistant VAR was not mentioned in the source, for some reasons, maybe it wasn't even present in that match, so let's remove this row from the table"
   ]
  },
  {
   "cell_type": "code",
   "execution_count": 12,
   "id": "d4b8e11f",
   "metadata": {},
   "outputs": [],
   "source": [
    "match_officials.dropna(inplace=True)"
   ]
  },
  {
   "cell_type": "code",
   "execution_count": 13,
   "id": "e08c5441",
   "metadata": {},
   "outputs": [
    {
     "name": "stdout",
     "output_type": "stream",
     "text": [
      "<class 'pandas.core.frame.DataFrame'>\n",
      "Index: 3040 entries, 0 to 3040\n",
      "Data columns (total 3 columns):\n",
      " #   Column          Non-Null Count  Dtype \n",
      "---  ------          --------------  ----- \n",
      " 0   match_id        3040 non-null   int64 \n",
      " 1   name_officials  3040 non-null   object\n",
      " 2   role            3040 non-null   object\n",
      "dtypes: int64(1), object(2)\n",
      "memory usage: 95.0+ KB\n"
     ]
    }
   ],
   "source": [
    "match_officials.info()"
   ]
  },
  {
   "cell_type": "markdown",
   "id": "91227840",
   "metadata": {},
   "source": [
    "When parsing, there was an error with player number mismatches, for which additional data was supplemented with Null values. Therefore, if all four columns have missing values, we need to process them first since they have dependencies on previous values, and then handle the rest of the missing values"
   ]
  },
  {
   "cell_type": "code",
   "execution_count": 14,
   "id": "36c12cac",
   "metadata": {
    "scrolled": true
   },
   "outputs": [],
   "source": [
    "# We will label the rows to understand which row belongs to which table\n",
    "players_statistics_home_team['source'] = 'home'\n",
    "players_statistics_away_team['source'] = 'away'\n",
    "\n",
    "home_team_with_date = players_statistics_home_team.merge(\n",
    "    match_table_results, how='left', on='match_id')[players_statistics_home_team.columns.tolist() + ['date_start']]\n",
    "away_team_with_date = players_statistics_away_team.merge(\n",
    "    match_table_results, how='left', on='match_id')[players_statistics_away_team.columns.tolist() + ['date_start']]\n",
    "\n",
    "all_players = pd.concat(\n",
    "    [home_team_with_date, away_team_with_date], ignore_index=True\n",
    ").sort_values(by=['name_player', 'date_start'], ascending=[True, True])\n",
    "\n",
    "# We will remember the players names to correctly fill in the missing values based on previous and subsequent matches\n",
    "all_players_is_null = all_players.loc[\n",
    "    all_players[['nationality', 'age', 'position', 'transfer_fee']].isnull().all(axis=1)\n",
    "]\n",
    "filtered_players = all_players[all_players['name_player'].isin(all_players_is_null['name_player'])]"
   ]
  },
  {
   "cell_type": "code",
   "execution_count": 15,
   "id": "15944658",
   "metadata": {},
   "outputs": [],
   "source": [
    "# Always fill the 'Nationality' column with the mode, grouped by players\n",
    "filtered_players.loc[:, 'nationality'] = filtered_players['nationality'].fillna(\n",
    "    filtered_players.groupby('name_player')['nationality'].transform(lambda x: x.mode().iloc[0])\n",
    ")\n",
    "\n",
    "# Visually, by opening the file 'filtered_players' and understanding how the data behaves\n",
    "# (since it's not too extensive), we can figure out what to use for processing the missing values\n",
    "grouped_players = filtered_players.groupby('name_player')\n",
    "for column in ['transfer_fee', 'age', 'position']:\n",
    "    filtered_players.loc[:, column] = grouped_players[column].fillna(method='ffill').fillna(method='bfill')"
   ]
  },
  {
   "cell_type": "code",
   "execution_count": 16,
   "id": "0b038463",
   "metadata": {},
   "outputs": [],
   "source": [
    "players_statistics_home_team = players_statistics_home_team.drop(columns='source')\n",
    "players_statistics_away_team = players_statistics_away_team.drop(columns='source')\n",
    "\n",
    "# We bring the processed df without missing values back to the format of the original table for data update\n",
    "filtered_players_home = filtered_players[filtered_players['source'] == 'home'].drop(columns=['source', 'date_start'])\n",
    "filtered_players_away = filtered_players[filtered_players['source'] == 'away'].drop(columns=['source', 'date_start'])\n",
    "\n",
    "players_statistics_home_team.update(filtered_players_home)\n",
    "players_statistics_away_team.update(filtered_players_away)"
   ]
  },
  {
   "cell_type": "markdown",
   "id": "39d2b22f",
   "metadata": {},
   "source": [
    "Now we need to perform similar actions only for the remaining column 'transfer_fee'"
   ]
  },
  {
   "cell_type": "code",
   "execution_count": 17,
   "id": "82854fba",
   "metadata": {},
   "outputs": [],
   "source": [
    "players_statistics_home_team['source'] = 'home'\n",
    "players_statistics_away_team['source'] = 'away'\n",
    "\n",
    "home_team_with_date = players_statistics_home_team.merge(\n",
    "    match_table_results, how='left', on='match_id')[players_statistics_home_team.columns.tolist() + ['date_start']]\n",
    "away_team_with_date = players_statistics_away_team.merge(\n",
    "    match_table_results, how='left', on='match_id')[players_statistics_away_team.columns.tolist() + ['date_start']]\n",
    "\n",
    "all_players = pd.concat(\n",
    "    [home_team_with_date, away_team_with_date], ignore_index=True\n",
    ").sort_values(by=['name_player', 'date_start'], ascending=[True, True])\n",
    "\n",
    "\n",
    "all_players_is_null = all_players.loc[\n",
    "    all_players[['transfer_fee']].isnull().any(axis=1)\n",
    "]\n",
    "\n",
    "filtered_players = all_players[all_players['name_player'].isin(all_players_is_null['name_player'])]"
   ]
  },
  {
   "cell_type": "markdown",
   "id": "1f78004a",
   "metadata": {},
   "source": [
    "We will adhere to the following rule: If a player did not appear on the field throughout the entire season (game time 0), then in the further analysis, they will not provide any useful information. Therefore, we will simply discard such rows"
   ]
  },
  {
   "cell_type": "code",
   "execution_count": 18,
   "id": "7bb6411f",
   "metadata": {},
   "outputs": [],
   "source": [
    "grouped_players = filtered_players.groupby('name_player')\n",
    "\n",
    "\n",
    "rows_to_drop = []\n",
    "for name_player, group in grouped_players:\n",
    "    column = ['first_team', 'substitution', 'play_time',\n",
    "               'goals', 'penalty_goals', 'penalty_goals', 'own_goals',\n",
    "               'assists', 'yellow_card', 'red_card']\n",
    "    all_false_or_zero = all(group[column].sum() == 0)\n",
    "    if all_false_or_zero:\n",
    "        rows_to_drop.extend(group.index)\n",
    "\n",
    "\n",
    "all_players = all_players.drop(rows_to_drop)\n",
    "filtered_players = filtered_players.drop(rows_to_drop)\n",
    "\n",
    "filtered_players_grouped = filtered_players.groupby('name_player')\n",
    "filled_filtered_players = pd.DataFrame()\n",
    "\n",
    "for name_player, group in filtered_players_grouped:\n",
    "    if group['transfer_fee'].notnull().any():\n",
    "        filled_group = group.ffill().bfill()\n",
    "        filled_filtered_players = pd.concat([filled_filtered_players, filled_group])\n",
    "\n",
    "all_players.update(filled_filtered_players)\n",
    "        \n",
    "all_players_home = all_players[all_players['source'] == 'home'].drop(columns=['source', 'date_start'])\n",
    "all_players_away = all_players[all_players['source'] == 'away'].drop(columns=['source', 'date_start'])\n",
    "\n",
    "filtered_players.update(filled_filtered_players)\n",
    "\n",
    "median_transfer_fee = filtered_players['transfer_fee'].median()\n",
    "\n",
    "all_players_home['transfer_fee'].fillna(median_transfer_fee, inplace=True)\n",
    "all_players_away['transfer_fee'].fillna(median_transfer_fee, inplace=True)\n",
    "\n",
    "filtered_players['transfer_fee'].fillna(median_transfer_fee, inplace=True)\n",
    "\n",
    "players_statistics_home_team = all_players_home\n",
    "players_statistics_away_team = all_players_away\n",
    "\n",
    "convert_dict = {\n",
    "    'match_id': 'int32',\n",
    "    'number_player': 'int16',\n",
    "    'age': 'int8',\n",
    "    'first_team': 'bool',\n",
    "    'substitution': 'bool',\n",
    "    'play_time': 'int16',\n",
    "    'goals': 'int8',\n",
    "    'penalty_goals': 'int8',\n",
    "    'missed_penalty_goals': 'int8',\n",
    "    'own_goals': 'int8',\n",
    "    'assists': 'int8',\n",
    "    'yellow_card': 'bool',\n",
    "    'red_card': 'bool'\n",
    "}\n",
    "\n",
    "players_statistics_home_team = players_statistics_home_team.astype(convert_dict)\n",
    "players_statistics_away_team = players_statistics_away_team.astype(convert_dict)"
   ]
  },
  {
   "cell_type": "code",
   "execution_count": 19,
   "id": "4937af2f",
   "metadata": {
    "scrolled": false
   },
   "outputs": [],
   "source": [
    "players_statistics_home_team.to_csv('../../data/2022-23/players_statistics_home_team.csv', index=False)\n",
    "players_statistics_away_team.to_csv('../../data/2022-23/players_statistics_away_team.csv', index=False)\n",
    "match_officials.to_csv('../../data/2022-23/match_officials.csv', index=False)"
   ]
  }
 ],
 "metadata": {
  "kernelspec": {
   "display_name": "Python 3 (ipykernel)",
   "language": "python",
   "name": "python3"
  },
  "language_info": {
   "codemirror_mode": {
    "name": "ipython",
    "version": 3
   },
   "file_extension": ".py",
   "mimetype": "text/x-python",
   "name": "python",
   "nbconvert_exporter": "python",
   "pygments_lexer": "ipython3",
   "version": "3.11.3"
  }
 },
 "nbformat": 4,
 "nbformat_minor": 5
}
